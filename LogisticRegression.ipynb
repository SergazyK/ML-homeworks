{
 "cells": [
  {
   "cell_type": "code",
   "execution_count": 351,
   "metadata": {
    "collapsed": true
   },
   "outputs": [],
   "source": [
    "import numpy as np\n",
    "import pandas as pd\n",
    "import matplotlib.pyplot as plt \n",
    "def gen_data(n = 1100):\n",
    "    a = (np.random.rand() - 0.5)*10\n",
    "    b = (np.random.rand() - 0.5)*10\n",
    "    # line will be a*x + b\n",
    "    x = (np.random.rand(n) - 0.5)*10\n",
    "    y = (np.random.rand(n) - 0.5)*10\n",
    "    z = np.ones(n)\n",
    "    for i in range(0,n):\n",
    "        if a*x[i] + b < y[i]:\n",
    "            z[i] = - 1\n",
    "        if np.random.rand(1) < 0.1:\n",
    "            z[i] *= -1\n",
    "    color = ['red' if l == 0 else 'green' for l in z]\n",
    "    \n",
    "    plt.scatter(x, y, c = z)\n",
    "    plt.ylim(min(y), max(y))\n",
    "    plt.xlim(min(x), max(x))\n",
    "\n",
    "    points = np.linspace(min(x),max(x))\n",
    "    plt.plot(points, points * a + b, label = \"blue\")\n",
    "    plt.show()\n",
    "    return np.stack([x,y],axis = 1), np.array(z), a, b\n",
    "\n",
    "def E(X,Y,w):\n",
    "    return np.sum(np.log1p(np.exp(-np.dot(X, np.array(w)) * Y)))/len(X)\n",
    "\n",
    "\n",
    "def gradient(X,Y,w,index):\n",
    "    return -Y[index] * X[index]/(1 + np.exp(np.dot(X[index],np.array(w)) * Y[index]))"
   ]
  },
  {
   "cell_type": "code",
   "execution_count": 374,
   "metadata": {},
   "outputs": [],
   "source": [
    "def SGD(X,Y,lr = 0.001, iterations = 10000):\n",
    "    w = np.random.rand(3)\n",
    "    X = np.c_[X,np.ones(len(X))]\n",
    "    for t in range(iterations):\n",
    "        w = w - lr * gradient(X, Y, w, np.random.randint(0,len(X)-1))\n",
    "        if t % 100 == 0:\n",
    "            print(E(X,Y,w))"
   ]
  },
  {
   "cell_type": "code",
   "execution_count": null,
   "metadata": {},
   "outputs": [],
   "source": [
    "def predict(X,w):\n",
    "    X = np.c_[X,np.ones(len(X))]\n",
    "    return np.sign(np.dot(X,w))"
   ]
  }
 ],
 "metadata": {
  "kernelspec": {
   "display_name": "Python 2",
   "language": "python",
   "name": "python2"
  },
  "language_info": {
   "codemirror_mode": {
    "name": "ipython",
    "version": 2.0
   },
   "file_extension": ".py",
   "mimetype": "text/x-python",
   "name": "python",
   "nbconvert_exporter": "python",
   "pygments_lexer": "ipython2",
   "version": "2.7.6"
  }
 },
 "nbformat": 4,
 "nbformat_minor": 0
}